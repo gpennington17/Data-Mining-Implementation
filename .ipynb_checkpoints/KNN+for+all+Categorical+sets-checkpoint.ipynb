{
 "cells": [
  {
   "cell_type": "code",
   "execution_count": 21,
   "metadata": {
    "collapsed": false
   },
   "outputs": [
    {
     "name": "stdout",
     "output_type": "stream",
     "text": [
      "\n",
      " Hello. \n",
      " \n",
      " Please type in the dataset you wish to use: mushrooms.csv\n"
     ]
    }
   ],
   "source": [
    "%matplotlib inline\n",
    "import matplotlib.pyplot as plt\n",
    "import pandas as pd\n",
    "import numpy as np\n",
    "from bs4 import BeautifulSoup\n",
    "import urllib.request\n",
    "import scipy.stats as stats\n",
    "import matplotlib.pyplot as plt\n",
    "import random\n",
    "import math\n",
    "import csv\n",
    "pd.options.display.max_rows = 100\n",
    "\n",
    "\n",
    "#Get dataset\n",
    "#response = urllib.request.urlopen('https://archive.ics.uci.edu/ml/machine-learning-databases/mushroom/agaricus-lepiota.data')\n",
    "#html = response.read()\n",
    "#soup = BeautifulSoup(html,\"lxml\")\n",
    "#body=soup.find_all('p')\n",
    "#txt_body=str(body)\n",
    "#txt_body=txt_body[4:-6]\n",
    "#table_set=[]\n",
    "#for line in txt_body.splitlines():\n",
    "    #row=line.split(',')\n",
    "    #for ndx in range (len(row)):\n",
    "        #so we may check for null later...\n",
    "        #if(row[ndx]=='?'):\n",
    "            #row[ndx]=None\n",
    "            \n",
    "    #table_set.append(row)\n",
    "#len(table_set)\n",
    "#len(table_set[0])\n",
    "dataset = input(\"\\n Hello. \"\n",
    "\"\\n \\n Please type in the dataset you wish to use: \")\n",
    "    \n",
    "fields = []\n",
    "with open(dataset, 'r') as csvfile:\n",
    "    # creating csv reader\n",
    "    csvreader = csv.reader(csvfile)\n",
    "     \n",
    "    # get field names in first row\n",
    "    fields = next(csvreader)\n",
    "\n",
    "           \n",
    "df = pd.read_csv(dataset)\n",
    "df.columns = fields\n",
    "#df.drop(df.index[0])\n",
    "# get length of dataframe with len(df)\n",
    "# get specific row with df.iloc[i] where i is row number\n",
    "# get specific value from a specific row with df.iloc[i]['attribute'] where attribute is 'class', 'cap-shape', etc"
   ]
  },
  {
   "cell_type": "code",
   "execution_count": 2,
   "metadata": {
    "collapsed": true
   },
   "outputs": [],
   "source": [
    "def calculateDistance(row, neighbor, attr):\n",
    "    \n",
    "    # In this case the higher the distance value, the more similar the \n",
    "    # tuple is. Every time an attribute is equal, add one to the distance.\n",
    "    \n",
    "    distance = 0\n",
    "    \n",
    "    for column in df.columns:\n",
    "        if(column == attr):\n",
    "            continue\n",
    "        if(row[column] == neighbor[column]):\n",
    "            distance = distance + 1\n",
    "    return distance"
   ]
  },
  {
   "cell_type": "code",
   "execution_count": 3,
   "metadata": {
    "collapsed": true
   },
   "outputs": [],
   "source": [
    "def calcLowestDistance(distances):\n",
    "    \n",
    "    # Try to find the minimum distance given the distances array that holds\n",
    "    # the k most similar tuples to the one we are trying to classify\n",
    "    \n",
    "    # variable to hold the value of minimum distance\n",
    "    minDis = distances[0]\n",
    "    # location in the array of the minimum distance\n",
    "    loc = 0\n",
    "    # loop through to find the minimum distance\n",
    "    for i in range(1,len(distances)):\n",
    "        if(minDis > distances[i]):\n",
    "            minDis = distances[i]\n",
    "            loc = i\n",
    "    return minDis, loc"
   ]
  },
  {
   "cell_type": "code",
   "execution_count": 4,
   "metadata": {
    "collapsed": true
   },
   "outputs": [],
   "source": [
    "def maxVotes(votes):\n",
    "    maxVote = 0\n",
    "    maxKey = \"\"\n",
    "    for keys in votes.keys():\n",
    "        print(keys)\n",
    "        print(votes[keys])\n",
    "        if(votes[keys] > maxVote):\n",
    "            maxVote = votes[keys]\n",
    "            maxKey = keys\n",
    "    return maxKey"
   ]
  },
  {
   "cell_type": "code",
   "execution_count": 5,
   "metadata": {
    "collapsed": true
   },
   "outputs": [],
   "source": [
    "def kNN (df):\n",
    "    \n",
    "    print(\"What attribute would you like to classify on?\")\n",
    "    attribute = input()\n",
    "    \n",
    "    #print(\"How many neighbors would you like to help make the classification?\")\n",
    "    k = int(math.sqrt(len(df)))\n",
    "    print(k)\n",
    "    \n",
    "    # tuple that we want to classify, in the case of this method it will be poisonous or edible\n",
    "    needsClass = df.iloc[0]\n",
    "    \n",
    "    # array to hold the k nearest (most similar) tuples\n",
    "    similarTuples = []\n",
    "    \n",
    "    # array of distances that corresponds to the k nearest tuples\n",
    "    distance = []\n",
    "    for i in range(int(k)):\n",
    "        distance.append(0)\n",
    "    \n",
    "    # variable used to compare lowest distances\n",
    "    lowestDistance = 0\n",
    "    \n",
    "    # for loop to assign tuples to the k nearest tuples (similarTuples)\n",
    "    # and to update distances array\n",
    "    for rowNum in range(1,len(df)):\n",
    "        \n",
    "        # variable to store the current tuple we are looking at\n",
    "        row = df.iloc[rowNum]\n",
    "        \n",
    "        # if similarTuples array is not full yet (we don't have k of them) then append\n",
    "        # to the array to fill it up\n",
    "        if(len(similarTuples) < int(k)):\n",
    "            similarTuples.append(row)\n",
    "            distance[len(similarTuples)-1] = calculateDistance(needsClass, row, attribute)\n",
    "            continue\n",
    "        \n",
    "        # variable to store the current tuples distance from the one we are trying to classify\n",
    "        curRowDistance = calculateDistance(needsClass, row, attribute)\n",
    "        \n",
    "        # variable to store the lowest distance of all the similarTuples\n",
    "        lowestDistance, x = calcLowestDistance(distance)\n",
    "        \n",
    "        # if the current distance is higher than the lowest distance in similarTuples, then replace\n",
    "        # that tuple with the current row\n",
    "        if(curRowDistance > lowestDistance):\n",
    "            distance[x] = curRowDistance\n",
    "            similarTuples[x] = row\n",
    "    \n",
    "    # variables to store voting for classifying the tuple\n",
    "    # forPoisonous = 0\n",
    "    # forEdible = 0\n",
    "    \n",
    "    votes = {}\n",
    "    for tuples in similarTuples:\n",
    "        attr = tuples[attribute]\n",
    "        if attr in votes:\n",
    "            votes[attr] += 1\n",
    "        else:\n",
    "            votes[attr] = 1\n",
    "    \n",
    "        \n",
    "    classification = maxVotes(votes)\n",
    "    print(\"You should be classified as\", end=\" \")\n",
    "    print(classification)"
   ]
  },
  {
   "cell_type": "code",
   "execution_count": 10,
   "metadata": {
    "collapsed": false
   },
   "outputs": [
    {
     "name": "stdout",
     "output_type": "stream",
     "text": [
      "What attribute would you like to classify on?\n",
      "cap-color\n",
      "90\n",
      "w\n",
      "43\n",
      "n\n",
      "47\n",
      "You should be classified as n\n"
     ]
    }
   ],
   "source": [
    "kNN(df)"
   ]
  }
 ],
 "metadata": {
  "kernelspec": {
   "display_name": "Python [default]",
   "language": "python",
   "name": "python3"
  },
  "language_info": {
   "codemirror_mode": {
    "name": "ipython",
    "version": 3
   },
   "file_extension": ".py",
   "mimetype": "text/x-python",
   "name": "python",
   "nbconvert_exporter": "python",
   "pygments_lexer": "ipython3",
   "version": "3.5.2"
  }
 },
 "nbformat": 4,
 "nbformat_minor": 2
}
